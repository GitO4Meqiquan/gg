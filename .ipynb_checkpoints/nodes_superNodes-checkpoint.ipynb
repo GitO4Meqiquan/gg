{
 "cells": [
  {
   "cell_type": "code",
   "execution_count": null,
   "id": "0d5a81cf",
   "metadata": {},
   "outputs": [],
   "source": [
    "import numpy as np\n",
    "import pandas as pd\n",
    "import matplotlib.pyplot as plt\n",
    "import seaborn as sns  # 数据展示库\n",
    "from IPython import display  # 数据展示库\n",
    "display.set_matplotlib_formats('svg')\n",
    "# import matplotlib_inline\n",
    "# matplotlib_inline.backend_inline.set_matplotlib_formats('svg')"
   ]
  },
  {
   "cell_type": "code",
   "execution_count": null,
   "id": "89aeb242",
   "metadata": {},
   "outputs": [],
   "source": [
    "def read_data(it):\n",
    "    filename = '/home/hallo/下载/GraphSummarization/result/20211212/superNode_'+str(it)+'.csv'\n",
    "    content = pd.read_csv(filename)\n",
    "    print(content[0:10])"
   ]
  }
 ],
 "metadata": {
  "kernelspec": {
   "display_name": "Python 3",
   "language": "python",
   "name": "python3"
  },
  "language_info": {
   "codemirror_mode": {
    "name": "ipython",
    "version": 3
   },
   "file_extension": ".py",
   "mimetype": "text/x-python",
   "name": "python",
   "nbconvert_exporter": "python",
   "pygments_lexer": "ipython3",
   "version": "3.8.8"
  }
 },
 "nbformat": 4,
 "nbformat_minor": 5
}
