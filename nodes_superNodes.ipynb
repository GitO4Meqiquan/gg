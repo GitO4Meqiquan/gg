{
 "cells": [
  {
   "cell_type": "code",
   "execution_count": 1,
   "id": "9cb631eb",
   "metadata": {
    "ExecuteTime": {
     "end_time": "2021-12-12T12:15:53.045118Z",
     "start_time": "2021-12-12T12:15:52.274547Z"
    }
   },
   "outputs": [],
   "source": [
    "import numpy as np\n",
    "import pandas as pd\n",
    "import matplotlib.pyplot as plt\n",
    "import seaborn as sns  # 数据展示库\n",
    "from IPython import display  # 数据展示库\n",
    "display.set_matplotlib_formats('svg')\n",
    "# import matplotlib_inline\n",
    "# matplotlib_inline.backend_inline.set_matplotlib_formats('svg')"
   ]
  },
  {
   "cell_type": "code",
   "execution_count": 7,
   "id": "4d4ae8da",
   "metadata": {
    "ExecuteTime": {
     "end_time": "2021-12-12T12:19:20.843376Z",
     "start_time": "2021-12-12T12:19:20.841512Z"
    }
   },
   "outputs": [],
   "source": [
    "def read_data(it):\n",
    "    filename = '/home/hallo/下载/GraphSummarization/result/20211212/superNode_'+str(it)+'.csv'\n",
    "    content = pd.read_csv(filename)\n",
    "    return content"
   ]
  },
  {
   "cell_type": "code",
   "execution_count": 8,
   "id": "2784e8c7",
   "metadata": {
    "ExecuteTime": {
     "end_time": "2021-12-12T12:19:35.041851Z",
     "start_time": "2021-12-12T12:19:34.993239Z"
    }
   },
   "outputs": [
    {
     "data": {
      "text/html": [
       "<div>\n",
       "<style scoped>\n",
       "    .dataframe tbody tr th:only-of-type {\n",
       "        vertical-align: middle;\n",
       "    }\n",
       "\n",
       "    .dataframe tbody tr th {\n",
       "        vertical-align: top;\n",
       "    }\n",
       "\n",
       "    .dataframe thead th {\n",
       "        text-align: right;\n",
       "    }\n",
       "</style>\n",
       "<table border=\"1\" class=\"dataframe\">\n",
       "  <thead>\n",
       "    <tr style=\"text-align: right;\">\n",
       "      <th></th>\n",
       "      <th>node_id</th>\n",
       "      <th>superNode_id</th>\n",
       "    </tr>\n",
       "  </thead>\n",
       "  <tbody>\n",
       "    <tr>\n",
       "      <th>316</th>\n",
       "      <td>316</td>\n",
       "      <td>313</td>\n",
       "    </tr>\n",
       "    <tr>\n",
       "      <th>319</th>\n",
       "      <td>319</td>\n",
       "      <td>318</td>\n",
       "    </tr>\n",
       "    <tr>\n",
       "      <th>325</th>\n",
       "      <td>325</td>\n",
       "      <td>324</td>\n",
       "    </tr>\n",
       "    <tr>\n",
       "      <th>331</th>\n",
       "      <td>331</td>\n",
       "      <td>329</td>\n",
       "    </tr>\n",
       "    <tr>\n",
       "      <th>334</th>\n",
       "      <td>334</td>\n",
       "      <td>333</td>\n",
       "    </tr>\n",
       "    <tr>\n",
       "      <th>...</th>\n",
       "      <td>...</td>\n",
       "      <td>...</td>\n",
       "    </tr>\n",
       "    <tr>\n",
       "      <th>325540</th>\n",
       "      <td>325540</td>\n",
       "      <td>325534</td>\n",
       "    </tr>\n",
       "    <tr>\n",
       "      <th>325541</th>\n",
       "      <td>325541</td>\n",
       "      <td>325534</td>\n",
       "    </tr>\n",
       "    <tr>\n",
       "      <th>325542</th>\n",
       "      <td>325542</td>\n",
       "      <td>325534</td>\n",
       "    </tr>\n",
       "    <tr>\n",
       "      <th>325544</th>\n",
       "      <td>325544</td>\n",
       "      <td>325534</td>\n",
       "    </tr>\n",
       "    <tr>\n",
       "      <th>325552</th>\n",
       "      <td>325552</td>\n",
       "      <td>325550</td>\n",
       "    </tr>\n",
       "  </tbody>\n",
       "</table>\n",
       "<p>116620 rows × 2 columns</p>\n",
       "</div>"
      ],
      "text/plain": [
       "        node_id  superNode_id\n",
       "316         316           313\n",
       "319         319           318\n",
       "325         325           324\n",
       "331         331           329\n",
       "334         334           333\n",
       "...         ...           ...\n",
       "325540   325540        325534\n",
       "325541   325541        325534\n",
       "325542   325542        325534\n",
       "325544   325544        325534\n",
       "325552   325552        325550\n",
       "\n",
       "[116620 rows x 2 columns]"
      ]
     },
     "execution_count": 8,
     "metadata": {},
     "output_type": "execute_result"
    }
   ],
   "source": [
    "data = read_data(1)\n",
    "data[data['superNode_id'] != data['node_id']]\n",
    "# type(data)"
   ]
  },
  {
   "cell_type": "code",
   "execution_count": 15,
   "id": "f7a6deae",
   "metadata": {
    "ExecuteTime": {
     "end_time": "2021-12-13T02:30:31.449168Z",
     "start_time": "2021-12-13T02:30:31.447052Z"
    }
   },
   "outputs": [],
   "source": [
    "def analysis_groups(it):\n",
    "    filename = '/home/hallo/下载/GraphSummarization/result/20211213/groups_'+str(it)+'.csv'\n",
    "    content = pd.read_csv(filename)\n",
    "    print(content[content['new_group']==1])"
   ]
  },
  {
   "cell_type": "code",
   "execution_count": 16,
   "id": "df7aa4db",
   "metadata": {
    "ExecuteTime": {
     "end_time": "2021-12-13T02:30:33.683647Z",
     "start_time": "2021-12-13T02:30:33.679376Z"
    }
   },
   "outputs": [
    {
     "name": "stdout",
     "output_type": "stream",
     "text": [
      "        node  new_group\n",
      "1084  110462          1\n",
      "1085  110465          1\n",
      "1132  110549          1\n"
     ]
    }
   ],
   "source": [
    "analysis_groups(2)"
   ]
  }
 ],
 "metadata": {
  "kernelspec": {
   "display_name": "Python 3",
   "language": "python",
   "name": "python3"
  },
  "language_info": {
   "codemirror_mode": {
    "name": "ipython",
    "version": 3
   },
   "file_extension": ".py",
   "mimetype": "text/x-python",
   "name": "python",
   "nbconvert_exporter": "python",
   "pygments_lexer": "ipython3",
   "version": "3.8.8"
  }
 },
 "nbformat": 4,
 "nbformat_minor": 5
}
